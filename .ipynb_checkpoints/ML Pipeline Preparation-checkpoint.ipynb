{
 "cells": [
  {
   "cell_type": "markdown",
   "metadata": {},
   "source": [
    "# ML Pipeline Preparation\n",
    "Follow the instructions below to help you create your ML pipeline.\n",
    "### 1. Import libraries and load data from database.\n",
    "- Import Python libraries\n",
    "- Load dataset from database with [`read_sql_table`](https://pandas.pydata.org/pandas-docs/stable/generated/pandas.read_sql_table.html)\n",
    "- Define feature and target variables X and Y"
   ]
  },
  {
   "cell_type": "code",
   "execution_count": 37,
   "metadata": {},
   "outputs": [
    {
     "name": "stderr",
     "output_type": "stream",
     "text": [
      "[nltk_data] Downloading package stopwords to\n",
      "[nltk_data]     C:\\Users\\crist\\AppData\\Roaming\\nltk_data...\n",
      "[nltk_data]   Package stopwords is already up-to-date!\n",
      "[nltk_data] Downloading package punkt to\n",
      "[nltk_data]     C:\\Users\\crist\\AppData\\Roaming\\nltk_data...\n",
      "[nltk_data]   Package punkt is already up-to-date!\n",
      "[nltk_data] Downloading package wordnet to\n",
      "[nltk_data]     C:\\Users\\crist\\AppData\\Roaming\\nltk_data...\n",
      "[nltk_data]   Package wordnet is already up-to-date!\n",
      "[nltk_data] Downloading package averaged_perceptron_tagger to\n",
      "[nltk_data]     C:\\Users\\crist\\AppData\\Roaming\\nltk_data...\n",
      "[nltk_data]   Package averaged_perceptron_tagger is already up-to-\n",
      "[nltk_data]       date!\n"
     ]
    }
   ],
   "source": [
    "# import libraries\n",
    "import nltk\n",
    "nltk.download(['stopwords','punkt', 'wordnet', 'averaged_perceptron_tagger'])# download for lemmatization\n",
    "\n",
    "import numpy as np\n",
    "import pandas as pd\n",
    "import re\n",
    "\n",
    "from nltk.corpus import stopwords\n",
    "from nltk.tokenize import word_tokenize\n",
    "from nltk.stem import WordNetLemmatizer\n",
    "from nltk.stem.porter import PorterStemmer\n",
    "\n",
    "from sklearn.model_selection import train_test_split\n",
    "from sklearn.feature_extraction.text import TfidfTransformer\n",
    "from sklearn.feature_extraction.text import CountVectorizer\n",
    "from sklearn.svm import LinearSVC\n",
    "from sklearn.ensemble import RandomForestClassifier\n",
    "from sklearn.metrics import confusion_matrix\n",
    "from sklearn.pipeline import Pipeline,FeatureUnion\n",
    "from sklearn.preprocessing import MultiLabelBinarizer\n",
    "from sklearn.multioutput import MultiOutputClassifier\n",
    "from sklearn.metrics import f1_score, precision_score, recall_score, \\\n",
    "    classification_report, confusion_matrix\n",
    "from sklearn.model_selection import GridSearchCV\n",
    "\n",
    "from sklearn.svm import LinearSVC\n",
    "\n",
    "import pickle\n",
    "import datetime\n",
    "\n",
    "from sqlalchemy import create_engine"
   ]
  },
  {
   "cell_type": "code",
   "execution_count": 24,
   "metadata": {},
   "outputs": [],
   "source": [
    "# load data from database\n",
    "engine = create_engine('sqlite:///DisasterResponseDatabase.db')\n",
    "\n",
    "df = pd.read_sql_table('MessageClassification',con='sqlite:///DisasterResponseDatabase.db')\n",
    "X = df.iloc[:,1] #message\n",
    "Y = df.iloc[:,4:] #aid_centers, aid_related, buildings, ... "
   ]
  },
  {
   "cell_type": "code",
   "execution_count": 25,
   "metadata": {},
   "outputs": [
    {
     "data": {
      "text/plain": [
       "17997    Air Serv International, a non-profit organizat...\n",
       "23241    The Pakistan police advised on November 26th t...\n",
       "6748                I know speak english can I get a job? \n",
       "11485    atiasdelrio Interseismic strain accumulation m...\n",
       "10500    Oh boy , power just went in and out .. Indicat...\n",
       "Name: message, dtype: object"
      ]
     },
     "execution_count": 25,
     "metadata": {},
     "output_type": "execute_result"
    }
   ],
   "source": [
    "X.sample(5)"
   ]
  },
  {
   "cell_type": "code",
   "execution_count": 26,
   "metadata": {},
   "outputs": [
    {
     "data": {
      "text/html": [
       "<div>\n",
       "<style scoped>\n",
       "    .dataframe tbody tr th:only-of-type {\n",
       "        vertical-align: middle;\n",
       "    }\n",
       "\n",
       "    .dataframe tbody tr th {\n",
       "        vertical-align: top;\n",
       "    }\n",
       "\n",
       "    .dataframe thead th {\n",
       "        text-align: right;\n",
       "    }\n",
       "</style>\n",
       "<table border=\"1\" class=\"dataframe\">\n",
       "  <thead>\n",
       "    <tr style=\"text-align: right;\">\n",
       "      <th></th>\n",
       "      <th>aid_centers</th>\n",
       "      <th>aid_related</th>\n",
       "      <th>buildings</th>\n",
       "      <th>child_alone</th>\n",
       "      <th>clothing</th>\n",
       "      <th>cold</th>\n",
       "      <th>death</th>\n",
       "      <th>direct_report</th>\n",
       "      <th>earthquake</th>\n",
       "      <th>electricity</th>\n",
       "      <th>...</th>\n",
       "      <th>request</th>\n",
       "      <th>search_and_rescue</th>\n",
       "      <th>security</th>\n",
       "      <th>shelter</th>\n",
       "      <th>shops</th>\n",
       "      <th>storm</th>\n",
       "      <th>tools</th>\n",
       "      <th>transport</th>\n",
       "      <th>water</th>\n",
       "      <th>weather_related</th>\n",
       "    </tr>\n",
       "  </thead>\n",
       "  <tbody>\n",
       "    <tr>\n",
       "      <th>0</th>\n",
       "      <td>0</td>\n",
       "      <td>0</td>\n",
       "      <td>0</td>\n",
       "      <td>0</td>\n",
       "      <td>0</td>\n",
       "      <td>0</td>\n",
       "      <td>0</td>\n",
       "      <td>0</td>\n",
       "      <td>0</td>\n",
       "      <td>0</td>\n",
       "      <td>...</td>\n",
       "      <td>0</td>\n",
       "      <td>0</td>\n",
       "      <td>0</td>\n",
       "      <td>0</td>\n",
       "      <td>0</td>\n",
       "      <td>0</td>\n",
       "      <td>0</td>\n",
       "      <td>0</td>\n",
       "      <td>0</td>\n",
       "      <td>0</td>\n",
       "    </tr>\n",
       "    <tr>\n",
       "      <th>1</th>\n",
       "      <td>0</td>\n",
       "      <td>1</td>\n",
       "      <td>0</td>\n",
       "      <td>0</td>\n",
       "      <td>0</td>\n",
       "      <td>0</td>\n",
       "      <td>0</td>\n",
       "      <td>0</td>\n",
       "      <td>0</td>\n",
       "      <td>0</td>\n",
       "      <td>...</td>\n",
       "      <td>0</td>\n",
       "      <td>0</td>\n",
       "      <td>0</td>\n",
       "      <td>0</td>\n",
       "      <td>0</td>\n",
       "      <td>1</td>\n",
       "      <td>0</td>\n",
       "      <td>0</td>\n",
       "      <td>0</td>\n",
       "      <td>1</td>\n",
       "    </tr>\n",
       "    <tr>\n",
       "      <th>2</th>\n",
       "      <td>0</td>\n",
       "      <td>0</td>\n",
       "      <td>0</td>\n",
       "      <td>0</td>\n",
       "      <td>0</td>\n",
       "      <td>0</td>\n",
       "      <td>0</td>\n",
       "      <td>0</td>\n",
       "      <td>0</td>\n",
       "      <td>0</td>\n",
       "      <td>...</td>\n",
       "      <td>0</td>\n",
       "      <td>0</td>\n",
       "      <td>0</td>\n",
       "      <td>0</td>\n",
       "      <td>0</td>\n",
       "      <td>0</td>\n",
       "      <td>0</td>\n",
       "      <td>0</td>\n",
       "      <td>0</td>\n",
       "      <td>0</td>\n",
       "    </tr>\n",
       "    <tr>\n",
       "      <th>3</th>\n",
       "      <td>0</td>\n",
       "      <td>1</td>\n",
       "      <td>1</td>\n",
       "      <td>0</td>\n",
       "      <td>0</td>\n",
       "      <td>0</td>\n",
       "      <td>0</td>\n",
       "      <td>0</td>\n",
       "      <td>0</td>\n",
       "      <td>0</td>\n",
       "      <td>...</td>\n",
       "      <td>1</td>\n",
       "      <td>0</td>\n",
       "      <td>0</td>\n",
       "      <td>0</td>\n",
       "      <td>0</td>\n",
       "      <td>0</td>\n",
       "      <td>0</td>\n",
       "      <td>0</td>\n",
       "      <td>0</td>\n",
       "      <td>0</td>\n",
       "    </tr>\n",
       "    <tr>\n",
       "      <th>4</th>\n",
       "      <td>0</td>\n",
       "      <td>0</td>\n",
       "      <td>0</td>\n",
       "      <td>0</td>\n",
       "      <td>0</td>\n",
       "      <td>0</td>\n",
       "      <td>0</td>\n",
       "      <td>0</td>\n",
       "      <td>0</td>\n",
       "      <td>0</td>\n",
       "      <td>...</td>\n",
       "      <td>0</td>\n",
       "      <td>0</td>\n",
       "      <td>0</td>\n",
       "      <td>0</td>\n",
       "      <td>0</td>\n",
       "      <td>0</td>\n",
       "      <td>0</td>\n",
       "      <td>0</td>\n",
       "      <td>0</td>\n",
       "      <td>0</td>\n",
       "    </tr>\n",
       "  </tbody>\n",
       "</table>\n",
       "<p>5 rows × 36 columns</p>\n",
       "</div>"
      ],
      "text/plain": [
       "   aid_centers  aid_related  buildings  child_alone  clothing  cold  death  \\\n",
       "0            0            0          0            0         0     0      0   \n",
       "1            0            1          0            0         0     0      0   \n",
       "2            0            0          0            0         0     0      0   \n",
       "3            0            1          1            0         0     0      0   \n",
       "4            0            0          0            0         0     0      0   \n",
       "\n",
       "   direct_report  earthquake  electricity  ...  request  search_and_rescue  \\\n",
       "0              0           0            0  ...        0                  0   \n",
       "1              0           0            0  ...        0                  0   \n",
       "2              0           0            0  ...        0                  0   \n",
       "3              0           0            0  ...        1                  0   \n",
       "4              0           0            0  ...        0                  0   \n",
       "\n",
       "   security  shelter  shops  storm  tools  transport  water  weather_related  \n",
       "0         0        0      0      0      0          0      0                0  \n",
       "1         0        0      0      1      0          0      0                1  \n",
       "2         0        0      0      0      0          0      0                0  \n",
       "3         0        0      0      0      0          0      0                0  \n",
       "4         0        0      0      0      0          0      0                0  \n",
       "\n",
       "[5 rows x 36 columns]"
      ]
     },
     "execution_count": 26,
     "metadata": {},
     "output_type": "execute_result"
    }
   ],
   "source": [
    "Y.head()"
   ]
  },
  {
   "cell_type": "markdown",
   "metadata": {},
   "source": [
    "### 2. Write a tokenization function to process your text data"
   ]
  },
  {
   "cell_type": "code",
   "execution_count": 27,
   "metadata": {},
   "outputs": [],
   "source": [
    "def tokenize(text):\n",
    "    text = text.lower() #makes text lower case\n",
    "    text = re.sub(r\"[^a-zA-Z0-9]\",\" \",text) #removes non-alphabetic characters\n",
    "    words=word_tokenize(text) #splits into words\n",
    "\n",
    "    words = [w for w in words if w not in stopwords.words(\"english\")]# Remove stop words    \n",
    "    words = [PorterStemmer().stem(w) for w in words] #apply stemming to words (eg. branching -> branch)\n",
    "    words = [WordNetLemmatizer().lemmatize(w, pos='v') for w in words]#apply lemmatizing to words (eg. was -> is)\n",
    "    \n",
    "    return words"
   ]
  },
  {
   "cell_type": "code",
   "execution_count": 28,
   "metadata": {},
   "outputs": [
    {
     "name": "stdout",
     "output_type": "stream",
     "text": [
      "text: Is the Hurricane over or is it not over \n",
      "tokens: ['hurrican']\n"
     ]
    }
   ],
   "source": [
    "#test\n",
    "print(\"text:\",X[1],\"\\ntokens:\", tokenize(X[1]))"
   ]
  },
  {
   "cell_type": "markdown",
   "metadata": {},
   "source": [
    "### 3. Build a machine learning pipeline\n",
    "This machine pipeline should take in the `message` column as input and output classification results on the other 36 categories in the dataset. You may find the [MultiOutputClassifier](http://scikit-learn.org/stable/modules/generated/sklearn.multioutput.MultiOutputClassifier.html) helpful for predicting multiple target variables."
   ]
  },
  {
   "cell_type": "code",
   "execution_count": 29,
   "metadata": {},
   "outputs": [],
   "source": [
    "#create pipeline\n",
    "\n",
    "pipeline1 = Pipeline([\n",
    "    ('vectorizer', CountVectorizer(tokenizer=tokenize)), #create the CountVectorizer object\n",
    "    ('tfidf', TfidfTransformer()), #create Tfidftransformer object    \n",
    "    ('clf', MultiOutputClassifier(RandomForestClassifier(), n_jobs=-1)) #create the Classifier object\n",
    "]) "
   ]
  },
  {
   "cell_type": "markdown",
   "metadata": {},
   "source": [
    "### 4. Train pipeline\n",
    "- Split data into train and test sets\n",
    "- Train pipeline"
   ]
  },
  {
   "cell_type": "code",
   "execution_count": 30,
   "metadata": {},
   "outputs": [
    {
     "name": "stderr",
     "output_type": "stream",
     "text": [
      "C:\\Anaconda3\\lib\\site-packages\\ipykernel_launcher.py:2: FutureWarning: Method .as_matrix will be removed in a future version. Use .values instead.\n",
      "  \n"
     ]
    }
   ],
   "source": [
    "#perform train / test split\n",
    "X_train, X_test, y_train, y_test = train_test_split(X.as_matrix(), Y.as_matrix(), test_size=0.2, random_state=42)\n"
   ]
  },
  {
   "cell_type": "code",
   "execution_count": 31,
   "metadata": {},
   "outputs": [
    {
     "data": {
      "text/plain": [
       "Pipeline(memory=None,\n",
       "     steps=[('vectorizer', CountVectorizer(analyzer='word', binary=False, decode_error='strict',\n",
       "        dtype=<class 'numpy.int64'>, encoding='utf-8', input='content',\n",
       "        lowercase=True, max_df=1.0, max_features=None, min_df=1,\n",
       "        ngram_range=(1, 1), preprocessor=None, stop_words=None,\n",
       "       ...ob_score=False, random_state=None, verbose=0,\n",
       "            warm_start=False),\n",
       "           n_jobs=-1))])"
      ]
     },
     "execution_count": 31,
     "metadata": {},
     "output_type": "execute_result"
    }
   ],
   "source": [
    "#Train pipeline\n",
    "pipeline1.fit(X_train, y_train)"
   ]
  },
  {
   "cell_type": "markdown",
   "metadata": {},
   "source": [
    "### 5. Test your model\n",
    "Report the f1 score, precision and recall for each output category of the dataset. You can do this by iterating through the columns and calling sklearn's `classification_report` on each."
   ]
  },
  {
   "cell_type": "code",
   "execution_count": 32,
   "metadata": {},
   "outputs": [],
   "source": [
    "# test the classifier\n",
    "y_pred = pipeline1.predict(X_test)"
   ]
  },
  {
   "cell_type": "code",
   "execution_count": 33,
   "metadata": {},
   "outputs": [],
   "source": [
    "#Convert prediction numpy into dataframe\n",
    "y_test=pd.DataFrame(data=y_test,columns=Y.columns)\n",
    "y_pred=pd.DataFrame(data=y_pred,columns=Y.columns)\n"
   ]
  },
  {
   "cell_type": "code",
   "execution_count": 34,
   "metadata": {},
   "outputs": [
    {
     "name": "stdout",
     "output_type": "stream",
     "text": [
      "Accuracy:\n",
      " aid_centers               0.987364\n",
      "aid_related               0.734061\n",
      "buildings                 0.951177\n",
      "child_alone               1.000000\n",
      "clothing                  0.987747\n",
      "cold                      0.980088\n",
      "death                     0.960942\n",
      "direct_report             0.844342\n",
      "earthquake                0.965537\n",
      "electricity               0.979897\n",
      "fire                      0.990044\n",
      "floods                    0.942562\n",
      "food                      0.944859\n",
      "hospitals                 0.989087\n",
      "infrastructure_related    0.933563\n",
      "medical_help              0.919778\n",
      "medical_products          0.953666\n",
      "military                  0.970898\n",
      "missing_people            0.989470\n",
      "money                     0.978556\n",
      "offer                     0.995788\n",
      "other_aid                 0.861957\n",
      "other_infrastructure      0.955964\n",
      "other_weather             0.943711\n",
      "refugees                  0.968217\n",
      "related                   0.801647\n",
      "request                   0.880720\n",
      "search_and_rescue         0.971855\n",
      "security                  0.980854\n",
      "shelter                   0.928585\n",
      "shops                     0.995022\n",
      "storm                     0.930117\n",
      "tools                     0.993299\n",
      "transport                 0.958453\n",
      "water                     0.957496\n",
      "weather_related           0.851809\n",
      "dtype: float64\n"
     ]
    }
   ],
   "source": [
    "accuracy = (y_pred == y_test).mean()\n",
    "\n",
    "print(\"Accuracy:\\n\",accuracy)"
   ]
  },
  {
   "cell_type": "code",
   "execution_count": 35,
   "metadata": {},
   "outputs": [
    {
     "name": "stdout",
     "output_type": "stream",
     "text": [
      "aid_centers\n",
      "              precision    recall  f1-score   support\n",
      "\n",
      "           0       0.99      1.00      0.99      5158\n",
      "           1       0.00      0.00      0.00        65\n",
      "\n",
      "   micro avg       0.99      0.99      0.99      5223\n",
      "   macro avg       0.49      0.50      0.50      5223\n",
      "weighted avg       0.98      0.99      0.98      5223\n",
      "\n",
      "_____________________________________________________\n",
      "aid_related\n",
      "              precision    recall  f1-score   support\n",
      "\n",
      "           0       0.74      0.85      0.79      3037\n",
      "           1       0.73      0.58      0.64      2186\n",
      "\n",
      "   micro avg       0.73      0.73      0.73      5223\n",
      "   macro avg       0.73      0.71      0.72      5223\n",
      "weighted avg       0.73      0.73      0.73      5223\n",
      "\n",
      "_____________________________________________________\n",
      "buildings\n",
      "              precision    recall  f1-score   support\n",
      "\n",
      "           0       0.95      1.00      0.97      4962\n",
      "           1       0.61      0.07      0.12       261\n",
      "\n",
      "   micro avg       0.95      0.95      0.95      5223\n",
      "   macro avg       0.78      0.53      0.55      5223\n",
      "weighted avg       0.94      0.95      0.93      5223\n",
      "\n",
      "_____________________________________________________\n",
      "child_alone\n",
      "              precision    recall  f1-score   support\n",
      "\n",
      "           0       1.00      1.00      1.00      5223\n",
      "\n",
      "   micro avg       1.00      1.00      1.00      5223\n",
      "   macro avg       1.00      1.00      1.00      5223\n",
      "weighted avg       1.00      1.00      1.00      5223\n",
      "\n",
      "_____________________________________________________\n",
      "clothing\n",
      "              precision    recall  f1-score   support\n",
      "\n",
      "           0       0.99      1.00      0.99      5148\n",
      "           1       0.70      0.25      0.37        75\n",
      "\n",
      "   micro avg       0.99      0.99      0.99      5223\n",
      "   macro avg       0.85      0.63      0.68      5223\n",
      "weighted avg       0.99      0.99      0.98      5223\n",
      "\n",
      "_____________________________________________________\n",
      "cold\n",
      "              precision    recall  f1-score   support\n",
      "\n",
      "           0       0.98      1.00      0.99      5114\n",
      "           1       0.78      0.06      0.12       109\n",
      "\n",
      "   micro avg       0.98      0.98      0.98      5223\n",
      "   macro avg       0.88      0.53      0.55      5223\n",
      "weighted avg       0.98      0.98      0.97      5223\n",
      "\n",
      "_____________________________________________________\n",
      "death\n",
      "              precision    recall  f1-score   support\n",
      "\n",
      "           0       0.96      1.00      0.98      4998\n",
      "           1       0.74      0.14      0.24       225\n",
      "\n",
      "   micro avg       0.96      0.96      0.96      5223\n",
      "   macro avg       0.85      0.57      0.61      5223\n",
      "weighted avg       0.95      0.96      0.95      5223\n",
      "\n",
      "_____________________________________________________\n",
      "direct_report\n",
      "              precision    recall  f1-score   support\n",
      "\n",
      "           0       0.86      0.97      0.91      4191\n",
      "           1       0.73      0.34      0.46      1032\n",
      "\n",
      "   micro avg       0.84      0.84      0.84      5223\n",
      "   macro avg       0.79      0.65      0.69      5223\n",
      "weighted avg       0.83      0.84      0.82      5223\n",
      "\n",
      "_____________________________________________________\n",
      "earthquake\n",
      "              precision    recall  f1-score   support\n",
      "\n",
      "           0       0.97      0.99      0.98      4747\n",
      "           1       0.88      0.72      0.79       476\n",
      "\n",
      "   micro avg       0.97      0.97      0.97      5223\n",
      "   macro avg       0.92      0.86      0.89      5223\n",
      "weighted avg       0.96      0.97      0.96      5223\n",
      "\n",
      "_____________________________________________________\n",
      "electricity\n",
      "              precision    recall  f1-score   support\n",
      "\n",
      "           0       0.98      1.00      0.99      5113\n",
      "           1       0.73      0.07      0.13       110\n",
      "\n",
      "   micro avg       0.98      0.98      0.98      5223\n",
      "   macro avg       0.85      0.54      0.56      5223\n",
      "weighted avg       0.98      0.98      0.97      5223\n",
      "\n",
      "_____________________________________________________\n",
      "fire\n",
      "              precision    recall  f1-score   support\n",
      "\n",
      "           0       0.99      1.00      0.99      5172\n",
      "           1       0.00      0.00      0.00        51\n",
      "\n",
      "   micro avg       0.99      0.99      0.99      5223\n",
      "   macro avg       0.50      0.50      0.50      5223\n",
      "weighted avg       0.98      0.99      0.99      5223\n",
      "\n",
      "_____________________________________________________\n",
      "floods\n",
      "              precision    recall  f1-score   support\n",
      "\n",
      "           0       0.95      0.99      0.97      4805\n",
      "           1       0.84      0.35      0.49       418\n",
      "\n",
      "   micro avg       0.94      0.94      0.94      5223\n",
      "   macro avg       0.89      0.67      0.73      5223\n",
      "weighted avg       0.94      0.94      0.93      5223\n",
      "\n",
      "_____________________________________________________\n",
      "food\n",
      "              precision    recall  f1-score   support\n",
      "\n",
      "           0       0.95      0.99      0.97      4670\n",
      "           1       0.84      0.59      0.69       553\n",
      "\n",
      "   micro avg       0.94      0.94      0.94      5223\n",
      "   macro avg       0.90      0.79      0.83      5223\n",
      "weighted avg       0.94      0.94      0.94      5223\n",
      "\n",
      "_____________________________________________________\n",
      "hospitals\n",
      "              precision    recall  f1-score   support\n",
      "\n",
      "           0       0.99      1.00      0.99      5166\n",
      "           1       0.00      0.00      0.00        57\n",
      "\n",
      "   micro avg       0.99      0.99      0.99      5223\n",
      "   macro avg       0.49      0.50      0.50      5223\n",
      "weighted avg       0.98      0.99      0.98      5223\n",
      "\n",
      "_____________________________________________________\n",
      "infrastructure_related\n",
      "              precision    recall  f1-score   support\n",
      "\n",
      "           0       0.93      1.00      0.97      4877\n",
      "           1       0.43      0.01      0.02       346\n",
      "\n",
      "   micro avg       0.93      0.93      0.93      5223\n",
      "   macro avg       0.68      0.50      0.49      5223\n",
      "weighted avg       0.90      0.93      0.90      5223\n",
      "\n",
      "_____________________________________________________\n",
      "medical_help\n",
      "              precision    recall  f1-score   support\n",
      "\n",
      "           0       0.93      0.99      0.96      4793\n",
      "           1       0.56      0.11      0.19       430\n",
      "\n",
      "   micro avg       0.92      0.92      0.92      5223\n",
      "   macro avg       0.75      0.55      0.57      5223\n",
      "weighted avg       0.90      0.92      0.89      5223\n",
      "\n",
      "_____________________________________________________\n",
      "medical_products\n",
      "              precision    recall  f1-score   support\n",
      "\n",
      "           0       0.96      1.00      0.98      4968\n",
      "           1       0.69      0.09      0.17       255\n",
      "\n",
      "   micro avg       0.95      0.95      0.95      5223\n",
      "   macro avg       0.82      0.55      0.57      5223\n",
      "weighted avg       0.94      0.95      0.94      5223\n",
      "\n",
      "_____________________________________________________\n",
      "military\n",
      "              precision    recall  f1-score   support\n",
      "\n",
      "           0       0.97      1.00      0.99      5067\n",
      "           1       0.75      0.04      0.07       156\n",
      "\n",
      "   micro avg       0.97      0.97      0.97      5223\n",
      "   macro avg       0.86      0.52      0.53      5223\n",
      "weighted avg       0.96      0.97      0.96      5223\n",
      "\n",
      "_____________________________________________________\n",
      "missing_people\n",
      "              precision    recall  f1-score   support\n",
      "\n",
      "           0       0.99      1.00      0.99      5167\n",
      "           1       1.00      0.02      0.04        56\n",
      "\n",
      "   micro avg       0.99      0.99      0.99      5223\n",
      "   macro avg       0.99      0.51      0.51      5223\n",
      "weighted avg       0.99      0.99      0.98      5223\n",
      "\n",
      "_____________________________________________________\n",
      "money\n",
      "              precision    recall  f1-score   support\n",
      "\n",
      "           0       0.98      1.00      0.99      5105\n",
      "           1       0.88      0.06      0.11       118\n",
      "\n",
      "   micro avg       0.98      0.98      0.98      5223\n",
      "   macro avg       0.93      0.53      0.55      5223\n",
      "weighted avg       0.98      0.98      0.97      5223\n",
      "\n",
      "_____________________________________________________\n",
      "offer\n",
      "              precision    recall  f1-score   support\n",
      "\n",
      "           0       1.00      1.00      1.00      5201\n",
      "           1       0.00      0.00      0.00        22\n",
      "\n",
      "   micro avg       1.00      1.00      1.00      5223\n",
      "   macro avg       0.50      0.50      0.50      5223\n",
      "weighted avg       0.99      1.00      0.99      5223\n",
      "\n",
      "_____________________________________________________\n"
     ]
    },
    {
     "name": "stderr",
     "output_type": "stream",
     "text": [
      "C:\\Anaconda3\\lib\\site-packages\\sklearn\\metrics\\classification.py:1143: UndefinedMetricWarning: Precision and F-score are ill-defined and being set to 0.0 in labels with no predicted samples.\n",
      "  'precision', 'predicted', average, warn_for)\n"
     ]
    },
    {
     "name": "stdout",
     "output_type": "stream",
     "text": [
      "other_aid\n",
      "              precision    recall  f1-score   support\n",
      "\n",
      "           0       0.87      0.99      0.93      4503\n",
      "           1       0.49      0.04      0.08       720\n",
      "\n",
      "   micro avg       0.86      0.86      0.86      5223\n",
      "   macro avg       0.68      0.52      0.50      5223\n",
      "weighted avg       0.82      0.86      0.81      5223\n",
      "\n",
      "_____________________________________________________\n",
      "other_infrastructure\n",
      "              precision    recall  f1-score   support\n",
      "\n",
      "           0       0.96      1.00      0.98      4996\n",
      "           1       0.20      0.00      0.01       227\n",
      "\n",
      "   micro avg       0.96      0.96      0.96      5223\n",
      "   macro avg       0.58      0.50      0.49      5223\n",
      "weighted avg       0.92      0.96      0.94      5223\n",
      "\n",
      "_____________________________________________________\n",
      "other_weather\n",
      "              precision    recall  f1-score   support\n",
      "\n",
      "           0       0.95      1.00      0.97      4931\n",
      "           1       0.48      0.07      0.12       292\n",
      "\n",
      "   micro avg       0.94      0.94      0.94      5223\n",
      "   macro avg       0.71      0.53      0.55      5223\n",
      "weighted avg       0.92      0.94      0.92      5223\n",
      "\n",
      "_____________________________________________________\n",
      "refugees\n",
      "              precision    recall  f1-score   support\n",
      "\n",
      "           0       0.97      1.00      0.98      5054\n",
      "           1       0.58      0.07      0.12       169\n",
      "\n",
      "   micro avg       0.97      0.97      0.97      5223\n",
      "   macro avg       0.77      0.53      0.55      5223\n",
      "weighted avg       0.96      0.97      0.96      5223\n",
      "\n",
      "_____________________________________________________\n",
      "related\n",
      "              precision    recall  f1-score   support\n",
      "\n",
      "           0       0.62      0.46      0.53      1237\n",
      "           1       0.84      0.91      0.88      3962\n",
      "           2       0.29      0.46      0.35        24\n",
      "\n",
      "   micro avg       0.80      0.80      0.80      5223\n",
      "   macro avg       0.59      0.61      0.59      5223\n",
      "weighted avg       0.79      0.80      0.79      5223\n",
      "\n",
      "_____________________________________________________\n",
      "request\n",
      "              precision    recall  f1-score   support\n",
      "\n",
      "           0       0.89      0.97      0.93      4320\n",
      "           1       0.78      0.43      0.56       903\n",
      "\n",
      "   micro avg       0.88      0.88      0.88      5223\n",
      "   macro avg       0.84      0.70      0.74      5223\n",
      "weighted avg       0.87      0.88      0.87      5223\n",
      "\n",
      "_____________________________________________________\n",
      "search_and_rescue\n",
      "              precision    recall  f1-score   support\n",
      "\n",
      "           0       0.97      1.00      0.99      5075\n",
      "           1       0.55      0.04      0.08       148\n",
      "\n",
      "   micro avg       0.97      0.97      0.97      5223\n",
      "   macro avg       0.76      0.52      0.53      5223\n",
      "weighted avg       0.96      0.97      0.96      5223\n",
      "\n",
      "_____________________________________________________\n",
      "security\n",
      "              precision    recall  f1-score   support\n",
      "\n",
      "           0       0.98      1.00      0.99      5126\n",
      "           1       0.00      0.00      0.00        97\n",
      "\n",
      "   micro avg       0.98      0.98      0.98      5223\n",
      "   macro avg       0.49      0.50      0.50      5223\n",
      "weighted avg       0.96      0.98      0.97      5223\n",
      "\n",
      "_____________________________________________________\n",
      "shelter\n",
      "              precision    recall  f1-score   support\n",
      "\n",
      "           0       0.93      0.99      0.96      4738\n",
      "           1       0.85      0.28      0.42       485\n",
      "\n",
      "   micro avg       0.93      0.93      0.93      5223\n",
      "   macro avg       0.89      0.64      0.69      5223\n",
      "weighted avg       0.92      0.93      0.91      5223\n",
      "\n",
      "_____________________________________________________\n",
      "shops\n",
      "              precision    recall  f1-score   support\n",
      "\n",
      "           0       1.00      1.00      1.00      5197\n",
      "           1       0.00      0.00      0.00        26\n",
      "\n",
      "   micro avg       1.00      1.00      1.00      5223\n",
      "   macro avg       0.50      0.50      0.50      5223\n",
      "weighted avg       0.99      1.00      0.99      5223\n",
      "\n",
      "_____________________________________________________\n",
      "storm\n",
      "              precision    recall  f1-score   support\n",
      "\n",
      "           0       0.94      0.99      0.96      4770\n",
      "           1       0.71      0.33      0.45       453\n",
      "\n",
      "   micro avg       0.93      0.93      0.93      5223\n",
      "   macro avg       0.82      0.66      0.71      5223\n",
      "weighted avg       0.92      0.93      0.92      5223\n",
      "\n",
      "_____________________________________________________\n",
      "tools\n",
      "              precision    recall  f1-score   support\n",
      "\n",
      "           0       0.99      1.00      1.00      5188\n",
      "           1       0.00      0.00      0.00        35\n",
      "\n",
      "   micro avg       0.99      0.99      0.99      5223\n",
      "   macro avg       0.50      0.50      0.50      5223\n",
      "weighted avg       0.99      0.99      0.99      5223\n",
      "\n",
      "_____________________________________________________\n",
      "transport\n",
      "              precision    recall  f1-score   support\n",
      "\n",
      "           0       0.96      1.00      0.98      4994\n",
      "           1       0.62      0.14      0.22       229\n",
      "\n",
      "   micro avg       0.96      0.96      0.96      5223\n",
      "   macro avg       0.79      0.57      0.60      5223\n",
      "weighted avg       0.95      0.96      0.95      5223\n",
      "\n",
      "_____________________________________________________\n",
      "water\n",
      "              precision    recall  f1-score   support\n",
      "\n",
      "           0       0.96      1.00      0.98      4901\n",
      "           1       0.84      0.38      0.53       322\n",
      "\n",
      "   micro avg       0.96      0.96      0.96      5223\n",
      "   macro avg       0.90      0.69      0.75      5223\n",
      "weighted avg       0.95      0.96      0.95      5223\n",
      "\n",
      "_____________________________________________________\n",
      "weather_related\n",
      "              precision    recall  f1-score   support\n",
      "\n",
      "           0       0.85      0.96      0.90      3785\n",
      "           1       0.84      0.57      0.68      1438\n",
      "\n",
      "   micro avg       0.85      0.85      0.85      5223\n",
      "   macro avg       0.85      0.76      0.79      5223\n",
      "weighted avg       0.85      0.85      0.84      5223\n",
      "\n",
      "_____________________________________________________\n"
     ]
    }
   ],
   "source": [
    "results_dic1={}\n",
    "for column in y_pred.columns:\n",
    "    print(column)\n",
    "    print(classification_report(y_test[column], y_pred[column]))\n",
    "    print('_____________________________________________________')\n",
    "\n",
    "    results_dic1[column]=classification_report(y_test[column], y_pred[column],output_dict=True)['weighted avg']"
   ]
  },
  {
   "cell_type": "markdown",
   "metadata": {},
   "source": [
    "### 6. Improve your model\n",
    "Use grid search to find better parameters. "
   ]
  },
  {
   "cell_type": "code",
   "execution_count": 38,
   "metadata": {},
   "outputs": [],
   "source": [
    "start_time  = datetime.datetime.now()"
   ]
  },
  {
   "cell_type": "code",
   "execution_count": 39,
   "metadata": {},
   "outputs": [],
   "source": [
    "pipeline2 = Pipeline([\n",
    "    ('vectorizer', CountVectorizer(tokenizer=tokenize)), #create the CountVectorizer object\n",
    "    ('tfidf', TfidfTransformer()), #create Tfidftransformer object    \n",
    "    ('clf', MultiOutputClassifier(RandomForestClassifier())) #create the Classifier object\n",
    "]) \n"
   ]
  },
  {
   "cell_type": "code",
   "execution_count": 40,
   "metadata": {},
   "outputs": [
    {
     "data": {
      "text/plain": [
       "dict_keys(['memory', 'steps', 'vectorizer', 'tfidf', 'clf', 'vectorizer__analyzer', 'vectorizer__binary', 'vectorizer__decode_error', 'vectorizer__dtype', 'vectorizer__encoding', 'vectorizer__input', 'vectorizer__lowercase', 'vectorizer__max_df', 'vectorizer__max_features', 'vectorizer__min_df', 'vectorizer__ngram_range', 'vectorizer__preprocessor', 'vectorizer__stop_words', 'vectorizer__strip_accents', 'vectorizer__token_pattern', 'vectorizer__tokenizer', 'vectorizer__vocabulary', 'tfidf__norm', 'tfidf__smooth_idf', 'tfidf__sublinear_tf', 'tfidf__use_idf', 'clf__estimator__bootstrap', 'clf__estimator__class_weight', 'clf__estimator__criterion', 'clf__estimator__max_depth', 'clf__estimator__max_features', 'clf__estimator__max_leaf_nodes', 'clf__estimator__min_impurity_decrease', 'clf__estimator__min_impurity_split', 'clf__estimator__min_samples_leaf', 'clf__estimator__min_samples_split', 'clf__estimator__min_weight_fraction_leaf', 'clf__estimator__n_estimators', 'clf__estimator__n_jobs', 'clf__estimator__oob_score', 'clf__estimator__random_state', 'clf__estimator__verbose', 'clf__estimator__warm_start', 'clf__estimator', 'clf__n_jobs'])"
      ]
     },
     "execution_count": 40,
     "metadata": {},
     "output_type": "execute_result"
    }
   ],
   "source": [
    "pipeline2.get_params().keys()"
   ]
  },
  {
   "cell_type": "code",
   "execution_count": 41,
   "metadata": {},
   "outputs": [],
   "source": [
    "parameters = {    \n",
    "        'tfidf__use_idf': (True, False), \n",
    "        'clf__estimator__n_estimators': [50, 100],\n",
    "        'clf__estimator__min_samples_split': [2,4] }"
   ]
  },
  {
   "cell_type": "code",
   "execution_count": 42,
   "metadata": {},
   "outputs": [],
   "source": [
    "grid_cv = GridSearchCV(pipeline2, param_grid=parameters, cv=5,verbose=3,n_jobs=-1)"
   ]
  },
  {
   "cell_type": "code",
   "execution_count": null,
   "metadata": {},
   "outputs": [
    {
     "name": "stdout",
     "output_type": "stream",
     "text": [
      "Fitting 5 folds for each of 8 candidates, totalling 40 fits\n"
     ]
    },
    {
     "name": "stderr",
     "output_type": "stream",
     "text": [
      "[Parallel(n_jobs=-1)]: Using backend LokyBackend with 8 concurrent workers.\n",
      "[Parallel(n_jobs=-1)]: Done  16 tasks      | elapsed: 38.2min\n"
     ]
    }
   ],
   "source": [
    "grid_cv.fit(X_train, y_train)"
   ]
  },
  {
   "cell_type": "code",
   "execution_count": null,
   "metadata": {},
   "outputs": [],
   "source": [
    "end_time = datetime.datetime.now()\n",
    "print ('Select Done..., Time Cost: %d' % ((end_time - start_time).seconds))"
   ]
  },
  {
   "cell_type": "code",
   "execution_count": null,
   "metadata": {},
   "outputs": [],
   "source": [
    "grid_cv.best_score_"
   ]
  },
  {
   "cell_type": "code",
   "execution_count": null,
   "metadata": {},
   "outputs": [],
   "source": [
    "best_parameters=grid_cv.best_estimator_.get_params()"
   ]
  },
  {
   "cell_type": "code",
   "execution_count": null,
   "metadata": {},
   "outputs": [],
   "source": [
    "best_parameters"
   ]
  },
  {
   "cell_type": "code",
   "execution_count": null,
   "metadata": {},
   "outputs": [],
   "source": [
    "#https://www.programcreek.com/python/example/91151/sklearn.model_selection.GridSearchCV\n",
    "\n",
    "for param_name in sorted(parameters.keys()):\n",
    "    print(\"\\t%s: %r\" % (param_name, best_parameters[param_name]))"
   ]
  },
  {
   "cell_type": "code",
   "execution_count": null,
   "metadata": {},
   "outputs": [],
   "source": [
    "pipeline2 = Pipeline([\n",
    "    ('vectorizer', CountVectorizer(tokenizer=tokenize)), #create the CountVectorizer object\n",
    "    ('tfidf', TfidfTransformer(use_idf=True)), #create Tfidftransformer object    \n",
    "    ('clf', MultiOutputClassifier(RandomForestClassifier(min_samples_split= 4,n_estimators= 100),\\\n",
    "        n_jobs=-1)) #create the Classifier object\n",
    "]) "
   ]
  },
  {
   "cell_type": "code",
   "execution_count": null,
   "metadata": {},
   "outputs": [],
   "source": [
    "pipeline2.fit(X_train, y_train)"
   ]
  },
  {
   "cell_type": "markdown",
   "metadata": {},
   "source": [
    "### 7. Test your model\n",
    "Show the accuracy, precision, and recall of the tuned model.  \n",
    "\n",
    "Since this project focuses on code quality, process, and  pipelines, there is no minimum performance metric needed to pass. However, make sure to fine tune your models for accuracy, precision and recall to make your project stand out - especially for your portfolio!"
   ]
  },
  {
   "cell_type": "code",
   "execution_count": null,
   "metadata": {},
   "outputs": [],
   "source": [
    "# test the classifier\n",
    "y_pred = pipeline2.predict(X_test)"
   ]
  },
  {
   "cell_type": "code",
   "execution_count": null,
   "metadata": {},
   "outputs": [],
   "source": [
    "#Convert prediction numpy into dataframe\n",
    "y_test=pd.DataFrame(data=y_test,columns=Y.columns)\n",
    "y_pred=pd.DataFrame(data=y_pred,columns=Y.columns)"
   ]
  },
  {
   "cell_type": "code",
   "execution_count": null,
   "metadata": {},
   "outputs": [],
   "source": [
    "results_dic2={}\n",
    "\n",
    "for column in y_pred.columns:\n",
    "    print(column)\n",
    "    print(classification_report(y_test[column], y_pred[column]))\n",
    "    print('_____________________________________________________')\n",
    "    \n",
    "    results_dic2[column]=classification_report(y_test[column], y_pred[column],output_dict=True)['weighted avg']\n"
   ]
  },
  {
   "cell_type": "code",
   "execution_count": null,
   "metadata": {},
   "outputs": [],
   "source": []
  },
  {
   "cell_type": "markdown",
   "metadata": {},
   "source": [
    "### 8. Try improving your model further. Here are a few ideas:\n",
    "* try other machine learning algorithms\n",
    "* add other features besides the TF-IDF"
   ]
  },
  {
   "cell_type": "code",
   "execution_count": null,
   "metadata": {},
   "outputs": [],
   "source": [
    "start_time  = datetime.datetime.now()"
   ]
  },
  {
   "cell_type": "code",
   "execution_count": null,
   "metadata": {},
   "outputs": [],
   "source": []
  },
  {
   "cell_type": "code",
   "execution_count": null,
   "metadata": {},
   "outputs": [],
   "source": [
    "pipeline3 = Pipeline([\n",
    "    ('vectorizer', CountVectorizer(tokenizer=tokenize)), #create the CountVectorizer object\n",
    "    ('tfidf', TfidfTransformer()), #create Tfidftransformer object    \n",
    "    ('clf', MultiOutputClassifier(LinearSVC())) #create the Classifier object\n",
    "]) "
   ]
  },
  {
   "cell_type": "code",
   "execution_count": null,
   "metadata": {},
   "outputs": [],
   "source": [
    "pipeline3.get_params()"
   ]
  },
  {
   "cell_type": "code",
   "execution_count": null,
   "metadata": {},
   "outputs": [],
   "source": [
    "parameters = {    \n",
    "        'tfidf__use_idf': (True, False), \n",
    "        'clf__estimator__C': [0.1, 1,10,100,1000,\n",
    "  }"
   ]
  },
  {
   "cell_type": "code",
   "execution_count": null,
   "metadata": {},
   "outputs": [],
   "source": [
    "grid_cv = GridSearchCV(pipeline3, param_grid=parameters, cv=5,verbose=3,n_jobs=-1)"
   ]
  },
  {
   "cell_type": "code",
   "execution_count": null,
   "metadata": {},
   "outputs": [],
   "source": [
    "grid_cv.fit(X_train, y_train)"
   ]
  },
  {
   "cell_type": "code",
   "execution_count": null,
   "metadata": {},
   "outputs": [],
   "source": [
    "end_time = datetime.datetime.now()\n",
    "print ('Select Done..., Time Cost: %d' % ((end_time - start_time).seconds))"
   ]
  },
  {
   "cell_type": "code",
   "execution_count": null,
   "metadata": {},
   "outputs": [],
   "source": [
    "grid_cv.best_score_"
   ]
  },
  {
   "cell_type": "code",
   "execution_count": null,
   "metadata": {},
   "outputs": [],
   "source": [
    "best_parameters=grid_cv.best_estimator_.get_params()"
   ]
  },
  {
   "cell_type": "code",
   "execution_count": null,
   "metadata": {},
   "outputs": [],
   "source": [
    "best_parameters"
   ]
  },
  {
   "cell_type": "code",
   "execution_count": null,
   "metadata": {},
   "outputs": [],
   "source": [
    "#https://www.programcreek.com/python/example/91151/sklearn.model_selection.GridSearchCV\n",
    "\n",
    "for param_name in sorted(parameters.keys()):\n",
    "    print(\"\\t%s: %r\" % (param_name, best_parameters[param_name]))"
   ]
  },
  {
   "cell_type": "code",
   "execution_count": null,
   "metadata": {},
   "outputs": [],
   "source": [
    "pipeline3 = Pipeline([\n",
    "    ('vectorizer', CountVectorizer(tokenizer=tokenize)), #create the CountVectorizer object\n",
    "    ('tfidf', TfidfTransformer(use_idf=True)), #create Tfidftransformer object    \n",
    "    ('clf', MultiOutputClassifier(RandomForestClassifier(min_samples_split= 4,n_estimators= 100),\\\n",
    "        n_jobs=-1)) #create the Classifier object\n",
    "]) "
   ]
  },
  {
   "cell_type": "code",
   "execution_count": null,
   "metadata": {},
   "outputs": [],
   "source": [
    "pipeline3.fit(X_train, y_train)"
   ]
  },
  {
   "cell_type": "code",
   "execution_count": null,
   "metadata": {},
   "outputs": [],
   "source": [
    "# test the classifier\n",
    "y_pred = pipeline3.predict(X_test)"
   ]
  },
  {
   "cell_type": "code",
   "execution_count": null,
   "metadata": {},
   "outputs": [],
   "source": [
    "#Convert prediction numpy into dataframe\n",
    "y_test=pd.DataFrame(data=y_test,columns=Y.columns)\n",
    "y_pred=pd.DataFrame(data=y_pred,columns=Y.columns)"
   ]
  },
  {
   "cell_type": "code",
   "execution_count": null,
   "metadata": {},
   "outputs": [],
   "source": [
    "results_dic3={}\n",
    "\n",
    "for column in y_pred.columns:\n",
    "    print(column)\n",
    "    print(classification_report(y_test[column], y_pred[column]))\n",
    "    print('_____________________________________________________')\n",
    "    \n",
    "    results_dic3[column]=classification_report(y_test[column], y_pred[column],output_dict=True)['weighted avg']\n"
   ]
  },
  {
   "cell_type": "code",
   "execution_count": null,
   "metadata": {},
   "outputs": [],
   "source": []
  },
  {
   "cell_type": "markdown",
   "metadata": {},
   "source": [
    "### 9. Export your model as a pickle file"
   ]
  },
  {
   "cell_type": "code",
   "execution_count": null,
   "metadata": {},
   "outputs": [],
   "source": [
    "pickle_out = open(\"model.pickle\",\"wb\")\n",
    "pickle.dump(pipeline, pickle_out)\n",
    "\n",
    "pickle_out.close()"
   ]
  },
  {
   "cell_type": "markdown",
   "metadata": {},
   "source": [
    "### 10. Use this notebook to complete `train.py`\n",
    "Use the template file attached in the Resources folder to write a script that runs the steps above to create a database and export a model based on a new dataset specified by the user."
   ]
  }
 ],
 "metadata": {
  "kernelspec": {
   "display_name": "Python 3",
   "language": "python",
   "name": "python3"
  },
  "language_info": {
   "codemirror_mode": {
    "name": "ipython",
    "version": 3
   },
   "file_extension": ".py",
   "mimetype": "text/x-python",
   "name": "python",
   "nbconvert_exporter": "python",
   "pygments_lexer": "ipython3",
   "version": "3.6.8"
  }
 },
 "nbformat": 4,
 "nbformat_minor": 2
}
